{
 "cells": [
  {
   "cell_type": "code",
   "execution_count": 1,
   "id": "f56fe1e9",
   "metadata": {},
   "outputs": [],
   "source": [
    "import sys\n",
    "import os\n",
    "\n",
    "# Add src to the system path to allow imports from the src directory\n",
    "notebook_dir = os.getcwd()\n",
    "src_path = os.path.abspath(os.path.join(notebook_dir, '../../..', 'src'))\n",
    "sys.path.insert(0, src_path)"
   ]
  },
  {
   "cell_type": "code",
   "execution_count": 2,
   "id": "aa130e76",
   "metadata": {},
   "outputs": [
    {
     "name": "stderr",
     "output_type": "stream",
     "text": [
      "/opt/anaconda3/envs/fenicsproject/lib/python3.10/site-packages/dolfin/jit/jit.py:121: RuntimeWarning: mpi4py.MPI.Session size changed, may indicate binary incompatibility. Expected 32 from C header, got 40 from PyObject\n",
      "  def compile_class(cpp_data, mpi_comm=MPI.comm_world):\n"
     ]
    }
   ],
   "source": [
    "from dolfin import *\n",
    "import ufl\n",
    "from materials import *\n",
    "from params import *\n",
    "from matplotlib import pyplot as plt\n",
    "%matplotlib inline"
   ]
  },
  {
   "cell_type": "markdown",
   "id": "3e22335e",
   "metadata": {},
   "source": [
    "## Initialize problem"
   ]
  },
  {
   "cell_type": "code",
   "execution_count": 3,
   "id": "e0471430",
   "metadata": {},
   "outputs": [
    {
     "name": "stdout",
     "output_type": "stream",
     "text": [
      "| Parameter    |        Value | Unit   |\n",
      "|--------------|--------------|--------|\n",
      "| dimension    |      3       | -      |\n",
      "| plane_stress |      0       | Bool   |\n",
      "| Lx           |    500       | m      |\n",
      "| Ly           |    750       | m      |\n",
      "| Lz           |    125       | m      |\n",
      "| g            |      9.81    | m/s²   |\n",
      "| rho_sea      |  10006.2     | N/m³   |\n",
      "| E0_ice       |      9.5e+09 | Pa     |\n",
      "| nu_ice       |      0.35    | -      |\n",
      "| rho_i_ice    |   8995.77    | N/m³   |\n",
      "| sigma_c_ice  | 474000       | Pa     |\n",
      "| ci           |      1       | -      |\n"
     ]
    }
   ],
   "source": [
    "params = Params()\n",
    "params.print_table()"
   ]
  },
  {
   "cell_type": "code",
   "execution_count": 4,
   "id": "651a7398",
   "metadata": {},
   "outputs": [],
   "source": [
    "g = params.g\n",
    "rho_sea = params.rho_sea\n",
    "E0_ice = params.E0_ice\n",
    "nu_ice = params.nu_ice\n",
    "rho_i_ice = params.rho_i_ice\n",
    "sigma_c_ice = params.sigma_c_ice"
   ]
  },
  {
   "cell_type": "code",
   "execution_count": 5,
   "id": "dacc2b03",
   "metadata": {},
   "outputs": [],
   "source": [
    "xdmf = XDMFFile(\"output/static/no_crevasse_3D.xdmf\")\n",
    "xdmf.parameters[\"functions_share_mesh\"] = True\n",
    "xdmf.parameters[\"rewrite_function_mesh\"] = False\n",
    "xdmf.parameters[\"flush_output\"] = True"
   ]
  },
  {
   "cell_type": "markdown",
   "id": "c76020a5",
   "metadata": {},
   "source": [
    "## Initialize Mesh"
   ]
  },
  {
   "cell_type": "code",
   "execution_count": 6,
   "id": "d8b63fd6",
   "metadata": {},
   "outputs": [],
   "source": [
    "Lx, Ly, Lz = 500, 750, 125\n",
    "mul = 1/5\n",
    "nx, ny, nz = int(Lx*mul), int(Ly*mul), int(Lz*mul)\n",
    "mesh = BoxMesh(Point(0, 0, 0), Point(Lx, Ly, Lz), nx, ny, nz)"
   ]
  },
  {
   "cell_type": "markdown",
   "id": "c4527313",
   "metadata": {},
   "source": [
    "## Initialize material model"
   ]
  },
  {
   "cell_type": "code",
   "execution_count": 7,
   "id": "623a6cc2",
   "metadata": {},
   "outputs": [],
   "source": [
    "ice = LinearElastic(mesh, params)"
   ]
  },
  {
   "cell_type": "markdown",
   "id": "1f518933",
   "metadata": {},
   "source": [
    "# Initialize boundary conditions"
   ]
  },
  {
   "cell_type": "code",
   "execution_count": 8,
   "id": "cce608b2",
   "metadata": {},
   "outputs": [
    {
     "name": "stderr",
     "output_type": "stream",
     "text": [
      "/opt/anaconda3/envs/fenicsproject/lib/python3.10/site-packages/dolfin/jit/jit.py:46: RuntimeWarning: mpi4py.MPI.Session size changed, may indicate binary incompatibility. Expected 32 from C header, got 40 from PyObject\n",
      "  if MPI.size(mpi_comm) == 1:\n"
     ]
    }
   ],
   "source": [
    "FDG0 = FunctionSpace(mesh, \"DG\", 0)\n",
    "TDG0 = TensorFunctionSpace(mesh, \"DG\", 0)\n",
    "V1 = VectorFunctionSpace(mesh, \"CG\", 1)"
   ]
  },
  {
   "cell_type": "code",
   "execution_count": 9,
   "id": "c9c489d6",
   "metadata": {},
   "outputs": [],
   "source": [
    "front = CompiledSubDomain(\"near(x[1], 0)\")\n",
    "back = CompiledSubDomain(\"near(x[1], L)\",L=Ly)\n",
    "left = CompiledSubDomain(\"near(x[0], 0)\")\n",
    "right_csd = CompiledSubDomain(\"near(x[0], B)\", B=Lx)\n",
    "bottom = CompiledSubDomain(\"near(x[2], 0)\")\n",
    "top = CompiledSubDomain(\"near(x[2], H)\", H=Lz)\n",
    "\n",
    "bottom_roller = DirichletBC(V1.sub(2), Constant(0), bottom)\n",
    "left_roller = DirichletBC(V1.sub(0), Constant(0), left)\n",
    "front_roller = DirichletBC(V1.sub(1), Constant(0), front)\n",
    "back_roller = DirichletBC(V1.sub(1), Constant(0), back)\n",
    "bc_u = [bottom_roller, left_roller,front_roller,back_roller]\n",
    "\n",
    "boundaries = MeshFunction(\"size_t\", mesh, mesh.topology().dim() - 1)\n",
    "right_csd.mark(boundaries, 1)\n",
    "\n",
    "ds = Measure(\"ds\", subdomain_data=boundaries)"
   ]
  },
  {
   "cell_type": "markdown",
   "id": "17dc9954",
   "metadata": {},
   "source": [
    "## Setup and Solve Problem"
   ]
  },
  {
   "cell_type": "code",
   "execution_count": 10,
   "id": "c3b5457a",
   "metadata": {},
   "outputs": [],
   "source": [
    "u, v = TrialFunction(V1), TestFunction(V1)\n",
    "u_sol = Function(V1, name=\"disp\")\n",
    "stress_xx, cdf = Function(FDG0, name=\"sigma_xx\"), Function(FDG0, name=\"cdf\")"
   ]
  },
  {
   "cell_type": "code",
   "execution_count": 11,
   "id": "f7484a22",
   "metadata": {},
   "outputs": [],
   "source": [
    "# t = Expression((\"-(rho_sea*(125/2 -x[1]))\", 0), rho_sea=rho_sea, degree=1)\n",
    "\n",
    "t = Constant((0, 0,0))\n",
    "f = Constant((0, 0,-ice.rho))"
   ]
  },
  {
   "cell_type": "code",
   "execution_count": 12,
   "id": "832380f9",
   "metadata": {},
   "outputs": [],
   "source": [
    "a = inner(ice.stress(u), ice.strain(v)) * dx\n",
    "L = dot(f, v) * dx + dot(t, v) * ds(1)"
   ]
  },
  {
   "cell_type": "code",
   "execution_count": 13,
   "id": "195a0e59",
   "metadata": {},
   "outputs": [
    {
     "name": "stdout",
     "output_type": "stream",
     "text": [
      "Solving linear variational problem.\n"
     ]
    }
   ],
   "source": [
    "solve(a == L, u_sol, bc_u, solver_parameters={\"linear_solver\": \"gmres\", \"preconditioner\": \"ilu\"})"
   ]
  },
  {
   "cell_type": "markdown",
   "id": "47ccff82",
   "metadata": {},
   "source": [
    "## Post Processing"
   ]
  },
  {
   "cell_type": "code",
   "execution_count": 15,
   "id": "b8db85f9",
   "metadata": {},
   "outputs": [
    {
     "name": "stdout",
     "output_type": "stream",
     "text": [
      "Calling FFC just-in-time (JIT) compiler, this may take some time.\n"
     ]
    }
   ],
   "source": [
    "stress_xx.assign(project(ice.principal_stress(u_sol)[0,0]/1e6, FDG0)) # N/m2 -> MPa\n",
    "cdf.assign(project(ice.crack_driving_force(u_sol), FDG0))"
   ]
  },
  {
   "cell_type": "code",
   "execution_count": 18,
   "id": "3b2e797b",
   "metadata": {},
   "outputs": [],
   "source": [
    "xdmf.write(u_sol,0)\n",
    "xdmf.write(stress_xx,0)\n",
    "xdmf.write(cdf,0)\n",
    "xdmf.close()"
   ]
  },
  {
   "cell_type": "code",
   "execution_count": 19,
   "id": "ff63752a",
   "metadata": {},
   "outputs": [
    {
     "data": {
      "text/plain": [
       "0.0"
      ]
     },
     "execution_count": 19,
     "metadata": {},
     "output_type": "execute_result"
    }
   ],
   "source": [
    "cdf.vector().max()"
   ]
  },
  {
   "cell_type": "code",
   "execution_count": 20,
   "id": "9339a3c0",
   "metadata": {},
   "outputs": [
    {
     "data": {
      "text/plain": [
       "0.2962848843719384"
      ]
     },
     "execution_count": 20,
     "metadata": {},
     "output_type": "execute_result"
    }
   ],
   "source": [
    "stress_xx.vector().max()"
   ]
  },
  {
   "cell_type": "code",
   "execution_count": null,
   "id": "0baa3fbd",
   "metadata": {},
   "outputs": [],
   "source": []
  }
 ],
 "metadata": {
  "kernelspec": {
   "display_name": "fenicsproject",
   "language": "python",
   "name": "python3"
  },
  "language_info": {
   "codemirror_mode": {
    "name": "ipython",
    "version": 3
   },
   "file_extension": ".py",
   "mimetype": "text/x-python",
   "name": "python",
   "nbconvert_exporter": "python",
   "pygments_lexer": "ipython3",
   "version": "3.10.17"
  }
 },
 "nbformat": 4,
 "nbformat_minor": 5
}
