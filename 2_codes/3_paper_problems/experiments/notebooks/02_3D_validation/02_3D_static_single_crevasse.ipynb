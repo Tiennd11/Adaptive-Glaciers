{
 "cells": [
  {
   "cell_type": "code",
   "execution_count": 19,
   "id": "f56fe1e9",
   "metadata": {},
   "outputs": [],
   "source": [
    "import sys\n",
    "import os\n",
    "\n",
    "# Add src to the system path to allow imports from the src directory\n",
    "notebook_dir = os.getcwd()\n",
    "src_path = os.path.abspath(os.path.join(notebook_dir, '../../..', 'src'))\n",
    "sys.path.insert(0, src_path)"
   ]
  },
  {
   "cell_type": "code",
   "execution_count": 20,
   "id": "aa130e76",
   "metadata": {},
   "outputs": [],
   "source": [
    "from dolfin import *\n",
    "import ufl\n",
    "from materials import *\n",
    "from params import *\n",
    "from matplotlib import pyplot as plt\n",
    "%matplotlib inline"
   ]
  },
  {
   "cell_type": "markdown",
   "id": "3e22335e",
   "metadata": {},
   "source": [
    "## Initialize problem"
   ]
  },
  {
   "cell_type": "code",
   "execution_count": 21,
   "id": "e0471430",
   "metadata": {},
   "outputs": [
    {
     "name": "stdout",
     "output_type": "stream",
     "text": [
      "| Parameter    |        Value | Unit   |\n",
      "|--------------|--------------|--------|\n",
      "| dimension    |      3       | -      |\n",
      "| plane_stress |      0       | Bool   |\n",
      "| Lx           |    500       | m      |\n",
      "| Ly           |    750       | m      |\n",
      "| Lz           |    125       | m      |\n",
      "| g            |      9.81    | m/s²   |\n",
      "| rho_sea      |   1020       | N/m³   |\n",
      "| E0_ice       |      9.5e+09 | Pa     |\n",
      "| nu_ice       |      0.35    | -      |\n",
      "| rho_i_ice    |    917       | N/m³   |\n",
      "| sigma_c_ice  | 118500       | Pa     |\n",
      "| ci           |      1       | -      |\n",
      "| l            |      0.625   | m      |\n"
     ]
    }
   ],
   "source": [
    "params = Params()\n",
    "params.print_table()"
   ]
  },
  {
   "cell_type": "code",
   "execution_count": 22,
   "id": "651a7398",
   "metadata": {},
   "outputs": [],
   "source": [
    "g = params.g\n",
    "rho_sea = params.rho_sea\n",
    "E0_ice = params.E0_ice\n",
    "nu_ice = params.nu_ice\n",
    "rho_i_ice = params.rho_i_ice\n",
    "sigma_c_ice = params.sigma_c_ice"
   ]
  },
  {
   "cell_type": "code",
   "execution_count": 23,
   "id": "dacc2b03",
   "metadata": {},
   "outputs": [],
   "source": [
    "xdmf = XDMFFile(\"output/static/single_crevasse_3D.xdmf\")\n",
    "xdmf.parameters[\"functions_share_mesh\"] = True\n",
    "xdmf.parameters[\"rewrite_function_mesh\"] = False\n",
    "xdmf.parameters[\"flush_output\"] = True"
   ]
  },
  {
   "cell_type": "markdown",
   "id": "c76020a5",
   "metadata": {},
   "source": [
    "## Initialize Mesh"
   ]
  },
  {
   "cell_type": "code",
   "execution_count": 24,
   "id": "d8b63fd6",
   "metadata": {},
   "outputs": [
    {
     "name": "stdout",
     "output_type": "stream",
     "text": [
      "Mesh minimum cell size (hmin): 0.7834976600929583, Number of cells: 10111448\n"
     ]
    }
   ],
   "source": [
    "Lx, Ly, Lz = 500, 750, 125\n",
    "mesh = Mesh()\n",
    "with XDMFFile(\"mesh/single_crevasse/non-adaptive/mesh.xdmf\") as infile:\n",
    "    infile.read(mesh)\n",
    "\n",
    "mesh = refine(mesh)\n",
    "print(f\"Mesh minimum cell size (hmin): {mesh.hmin()}, Number of cells: {mesh.num_cells()}\")\n"
   ]
  },
  {
   "cell_type": "markdown",
   "id": "c4527313",
   "metadata": {},
   "source": [
    "## Initialize material model"
   ]
  },
  {
   "cell_type": "code",
   "execution_count": 25,
   "id": "623a6cc2",
   "metadata": {},
   "outputs": [],
   "source": [
    "ice = LinearElastic(mesh, params)"
   ]
  },
  {
   "cell_type": "markdown",
   "id": "1f518933",
   "metadata": {},
   "source": [
    "# Initialize boundary conditions"
   ]
  },
  {
   "cell_type": "code",
   "execution_count": 26,
   "id": "cce608b2",
   "metadata": {},
   "outputs": [],
   "source": [
    "FDG0 = FunctionSpace(mesh, \"DG\", 0)\n",
    "TDG0 = TensorFunctionSpace(mesh, \"DG\", 0)\n",
    "V1 = VectorFunctionSpace(mesh, \"CG\", 1)"
   ]
  },
  {
   "cell_type": "code",
   "execution_count": 27,
   "id": "c9c489d6",
   "metadata": {},
   "outputs": [],
   "source": [
    "front = CompiledSubDomain(\"near(x[1], 0)\")\n",
    "back = CompiledSubDomain(\"near(x[1], L)\",L=Ly)\n",
    "left = CompiledSubDomain(\"near(x[0], 0)\")\n",
    "right_csd = CompiledSubDomain(\"near(x[0], B)\", B=Lx)\n",
    "bottom = CompiledSubDomain(\"near(x[2], 0)\")\n",
    "top = CompiledSubDomain(\"near(x[2], H)\", H=Lz)\n",
    "\n",
    "bottom_roller = DirichletBC(V1.sub(2), Constant(0), bottom)\n",
    "left_roller = DirichletBC(V1.sub(0), Constant(0), left)\n",
    "front_roller = DirichletBC(V1.sub(1), Constant(0), front)\n",
    "back_roller = DirichletBC(V1.sub(1), Constant(0), back)\n",
    "bc_u = [bottom_roller, left_roller,front_roller,back_roller]\n",
    "\n",
    "boundaries = MeshFunction(\"size_t\", mesh, mesh.topology().dim() - 1)\n",
    "right_csd.mark(boundaries, 1)\n",
    "\n",
    "ds = Measure(\"ds\", subdomain_data=boundaries)"
   ]
  },
  {
   "cell_type": "markdown",
   "id": "17dc9954",
   "metadata": {},
   "source": [
    "## Setup and Solve Problem"
   ]
  },
  {
   "cell_type": "code",
   "execution_count": 28,
   "id": "c3b5457a",
   "metadata": {},
   "outputs": [],
   "source": [
    "u, v = TrialFunction(V1), TestFunction(V1)\n",
    "u_sol = Function(V1, name=\"disp\")\n",
    "stress_xx, cdf = Function(FDG0, name=\"sigma_xx\"), Function(FDG0, name=\"cdf\")"
   ]
  },
  {
   "cell_type": "code",
   "execution_count": 29,
   "id": "f7484a22",
   "metadata": {},
   "outputs": [],
   "source": [
    "t = Expression((0,\"(h - x[2] >= 0 ?-rho_H2O * grav*(h - x[2]) : 0)\", 0), h=125/2, rho_H2O=rho_sea, grav= params.g, degree=1)\n",
    "\n",
    "# t = Constant((0, 0,0))\n",
    "f = Constant((0, 0,-ice.rho * params.g))"
   ]
  },
  {
   "cell_type": "code",
   "execution_count": 30,
   "id": "832380f9",
   "metadata": {},
   "outputs": [],
   "source": [
    "a = (1+1e-4)*inner(ice.stress(u), ice.strain(v)) * dx\n",
    "L = dot(f, v) * dx + dot(t, v) * ds(1)"
   ]
  },
  {
   "cell_type": "code",
   "execution_count": 31,
   "id": "195a0e59",
   "metadata": {},
   "outputs": [
    {
     "name": "stdout",
     "output_type": "stream",
     "text": [
      "Solving linear variational problem.\n"
     ]
    }
   ],
   "source": [
    "solve(a == L, u_sol, bc_u, solver_parameters={\"linear_solver\": \"gmres\", \"preconditioner\": \"ilu\"})"
   ]
  },
  {
   "cell_type": "markdown",
   "id": "47ccff82",
   "metadata": {},
   "source": [
    "## Post Processing"
   ]
  },
  {
   "cell_type": "code",
   "execution_count": 32,
   "id": "b8db85f9",
   "metadata": {},
   "outputs": [],
   "source": [
    "stress_xx.assign(project(ice.principal_stress(u_sol)[0,0]/1e6, FDG0)) # N/m2 -> MPa\n",
    "cdf.assign(project(ice.crack_driving_force(u_sol), FDG0))"
   ]
  },
  {
   "cell_type": "code",
   "execution_count": 33,
   "id": "3b2e797b",
   "metadata": {},
   "outputs": [],
   "source": [
    "xdmf.write(u_sol,0)\n",
    "xdmf.write(stress_xx,0)\n",
    "xdmf.write(cdf,0)\n",
    "xdmf.close()"
   ]
  },
  {
   "cell_type": "code",
   "execution_count": 34,
   "id": "ff63752a",
   "metadata": {},
   "outputs": [
    {
     "data": {
      "text/plain": [
       "85.85282705876577"
      ]
     },
     "execution_count": 34,
     "metadata": {},
     "output_type": "execute_result"
    }
   ],
   "source": [
    "cdf.vector().max()"
   ]
  },
  {
   "cell_type": "code",
   "execution_count": 35,
   "id": "9339a3c0",
   "metadata": {},
   "outputs": [
    {
     "data": {
      "text/plain": [
       "1.1041507572073868"
      ]
     },
     "execution_count": 35,
     "metadata": {},
     "output_type": "execute_result"
    }
   ],
   "source": [
    "stress_xx.vector().max()"
   ]
  },
  {
   "cell_type": "code",
   "execution_count": 36,
   "id": "0baa3fbd",
   "metadata": {},
   "outputs": [
    {
     "data": {
      "text/plain": [
       "(0.018938457985338043, -0.011663000524427153)"
      ]
     },
     "execution_count": 36,
     "metadata": {},
     "output_type": "execute_result"
    }
   ],
   "source": [
    "u_sol.vector().max(), u_sol.vector().min()"
   ]
  },
  {
   "cell_type": "code",
   "execution_count": null,
   "id": "840e3b29",
   "metadata": {},
   "outputs": [],
   "source": []
  }
 ],
 "metadata": {
  "kernelspec": {
   "display_name": "fenicsproject",
   "language": "python",
   "name": "python3"
  },
  "language_info": {
   "codemirror_mode": {
    "name": "ipython",
    "version": 3
   },
   "file_extension": ".py",
   "mimetype": "text/x-python",
   "name": "python",
   "nbconvert_exporter": "python",
   "pygments_lexer": "ipython3",
   "version": "3.10.17"
  }
 },
 "nbformat": 4,
 "nbformat_minor": 5
}
