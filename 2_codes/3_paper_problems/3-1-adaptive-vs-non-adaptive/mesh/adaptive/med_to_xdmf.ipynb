{
 "cells": [
  {
   "cell_type": "code",
   "execution_count": 1,
   "metadata": {},
   "outputs": [
    {
     "name": "stderr",
     "output_type": "stream",
     "text": [
      "/opt/anaconda3/envs/fenicsproject/lib/python3.10/site-packages/dolfin/jit/jit.py:121: RuntimeWarning: mpi4py.MPI.Session size changed, may indicate binary incompatibility. Expected 32 from C header, got 40 from PyObject\n",
      "  def compile_class(cpp_data, mpi_comm=MPI.comm_world):\n"
     ]
    }
   ],
   "source": [
    "from dolfin import *\n",
    "import meshio\n",
    "%matplotlib inline"
   ]
  },
  {
   "cell_type": "code",
   "execution_count": 2,
   "metadata": {},
   "outputs": [
    {
     "data": {
      "text/plain": [
       "'/Users/abhigupta/Storage/codes/pd/adaptive-glaciers/2_codes/3_paper_problems/3-1-adaptive-vs-non-adaptive/mesh/adaptive'"
      ]
     },
     "execution_count": 2,
     "metadata": {},
     "output_type": "execute_result"
    }
   ],
   "source": [
    "import os\n",
    "os.getcwd()"
   ]
  },
  {
   "cell_type": "code",
   "execution_count": 3,
   "metadata": {},
   "outputs": [],
   "source": [
    "import numpy as np"
   ]
  },
  {
   "cell_type": "code",
   "execution_count": 4,
   "metadata": {},
   "outputs": [],
   "source": [
    "mesh = meshio.read(\"adaptive-glacier.med\")\n",
    "points, cell, cell_data, field_data = mesh.points, mesh.cells, mesh.cell_data, mesh.field_data"
   ]
  },
  {
   "cell_type": "code",
   "execution_count": 5,
   "metadata": {},
   "outputs": [
    {
     "data": {
      "text/plain": [
       "array([[2242, 2235, 2218, 2217],\n",
       "       [1813,  499, 1828, 1830],\n",
       "       [ 610,  378, 1739,  377],\n",
       "       ...,\n",
       "       [2124, 1123, 1024, 1122],\n",
       "       [2124, 1123, 1122, 2190],\n",
       "       [1210, 2192, 1209, 1128]])"
      ]
     },
     "execution_count": 5,
     "metadata": {},
     "output_type": "execute_result"
    }
   ],
   "source": [
    "cell['tetra']"
   ]
  },
  {
   "cell_type": "code",
   "execution_count": 6,
   "metadata": {},
   "outputs": [],
   "source": [
    "a = cell['tetra']"
   ]
  },
  {
   "cell_type": "code",
   "execution_count": 7,
   "metadata": {},
   "outputs": [
    {
     "data": {
      "text/plain": [
       "array([[2242, 2235, 2218, 2217],\n",
       "       [1813,  499, 1828, 1830],\n",
       "       [ 610,  378, 1739,  377],\n",
       "       ...,\n",
       "       [2124, 1123, 1024, 1122],\n",
       "       [2124, 1123, 1122, 2190],\n",
       "       [1210, 2192, 1209, 1128]])"
      ]
     },
     "execution_count": 7,
     "metadata": {},
     "output_type": "execute_result"
    }
   ],
   "source": [
    "a"
   ]
  },
  {
   "cell_type": "code",
   "execution_count": 8,
   "metadata": {},
   "outputs": [
    {
     "data": {
      "text/plain": [
       "array([0])"
      ]
     },
     "execution_count": 8,
     "metadata": {},
     "output_type": "execute_result"
    }
   ],
   "source": [
    "np.unique(mesh.point_data['point_tags'])"
   ]
  },
  {
   "cell_type": "code",
   "execution_count": 9,
   "metadata": {},
   "outputs": [
    {
     "ename": "KeyError",
     "evalue": "1",
     "output_type": "error",
     "traceback": [
      "\u001b[0;31m---------------------------------------------------------------------------\u001b[0m",
      "\u001b[0;31mKeyError\u001b[0m                                  Traceback (most recent call last)",
      "Cell \u001b[0;32mIn[9], line 1\u001b[0m\n\u001b[0;32m----> 1\u001b[0m \u001b[43mcell\u001b[49m\u001b[43m[\u001b[49m\u001b[38;5;241;43m1\u001b[39;49m\u001b[43m]\u001b[49m\n",
      "\u001b[0;31mKeyError\u001b[0m: 1"
     ]
    }
   ],
   "source": [
    "cell[1]"
   ]
  },
  {
   "cell_type": "code",
   "execution_count": 10,
   "metadata": {},
   "outputs": [
    {
     "data": {
      "text/plain": [
       "array([[242.5       , 750.        ,   0.        ],\n",
       "       [242.5       , 750.        , 125.        ],\n",
       "       [242.5       ,   0.        , 125.        ],\n",
       "       ...,\n",
       "       [400.24905755, 476.31073986,  76.95391171],\n",
       "       [394.64933145, 281.27456913,  79.3087511 ],\n",
       "       [451.77806228,  39.0085765 ,  79.24680385]])"
      ]
     },
     "execution_count": 10,
     "metadata": {},
     "output_type": "execute_result"
    }
   ],
   "source": [
    "points[:,:]"
   ]
  },
  {
   "cell_type": "code",
   "execution_count": 11,
   "metadata": {},
   "outputs": [],
   "source": [
    "meshio.write(\"mesh.xdmf\", meshio.Mesh(\n",
    "    points=points[:,:],\n",
    "    cells={\"tetra\": a}))"
   ]
  },
  {
   "cell_type": "code",
   "execution_count": 46,
   "metadata": {},
   "outputs": [],
   "source": [
    "meshio.write(\"line.xdmf\", meshio.Mesh(\n",
    "    points=points[:,[0,2]],\n",
    "    cells={\"line\": cell[\"line\"]},\n",
    "    cell_data={\"line\": {\"marker\": -cell_data[\"line\"][\"cell_tags\"]}}\n",
    "))"
   ]
  },
  {
   "cell_type": "code",
   "execution_count": 47,
   "metadata": {},
   "outputs": [],
   "source": [
    "meshio.write(\"point.xdmf\", meshio.Mesh(\n",
    "    points= points[:,[0,2]],\n",
    "    cells = {\"vertex\": np.array([[i,] for i in range(len(points))])},# here the cell is a vertex and the cell num is vertex num\n",
    "    cell_data={\"vertex\":{\"marker\": mesh.point_data[\"point_tags\"]}}\n",
    "))"
   ]
  },
  {
   "cell_type": "code",
   "execution_count": 48,
   "metadata": {},
   "outputs": [
    {
     "data": {
      "text/plain": [
       "3"
      ]
     },
     "execution_count": 48,
     "metadata": {},
     "output_type": "execute_result"
    }
   ],
   "source": [
    "mesh.point_data[\"point_tags\"].max()"
   ]
  },
  {
   "cell_type": "code",
   "execution_count": 49,
   "metadata": {},
   "outputs": [
    {
     "data": {
      "text/plain": [
       "{-6: ['load_line'], -7: ['face']}"
      ]
     },
     "execution_count": 49,
     "metadata": {},
     "output_type": "execute_result"
    }
   ],
   "source": [
    "mesh.cell_tags"
   ]
  },
  {
   "cell_type": "code",
   "execution_count": 50,
   "metadata": {},
   "outputs": [
    {
     "data": {
      "text/plain": [
       "{2: ['left_support'], 3: ['right_sipport']}"
      ]
     },
     "execution_count": 50,
     "metadata": {},
     "output_type": "execute_result"
    }
   ],
   "source": [
    "mesh.point_tags"
   ]
  },
  {
   "cell_type": "code",
   "execution_count": 51,
   "metadata": {},
   "outputs": [],
   "source": [
    "arr=cell_data[\"triangle\"][\"cell_tags\"]\n",
    "num=2"
   ]
  },
  {
   "cell_type": "code",
   "execution_count": 52,
   "metadata": {},
   "outputs": [
    {
     "name": "stdout",
     "output_type": "stream",
     "text": [
      "False\n"
     ]
    }
   ],
   "source": [
    "if num in arr:\n",
    "    print(True)\n",
    "else:\n",
    "    print(False)"
   ]
  },
  {
   "cell_type": "code",
   "execution_count": 53,
   "metadata": {},
   "outputs": [
    {
     "data": {
      "text/plain": [
       "array([-7])"
      ]
     },
     "execution_count": 53,
     "metadata": {},
     "output_type": "execute_result"
    }
   ],
   "source": [
    "np.unique(arr)"
   ]
  },
  {
   "cell_type": "markdown",
   "metadata": {},
   "source": [
    "# Demo"
   ]
  },
  {
   "cell_type": "code",
   "execution_count": 54,
   "metadata": {},
   "outputs": [],
   "source": [
    "mesh_2d = Mesh()\n",
    "with XDMFFile(\"mesh.xdmf\") as infile:\n",
    "    infile.read(mesh_2d)"
   ]
  },
  {
   "cell_type": "code",
   "execution_count": 55,
   "metadata": {},
   "outputs": [],
   "source": [
    "mvc = MeshValueCollection(\"size_t\", mesh_2d, 1)\n",
    "with XDMFFile(\"line.xdmf\") as infile:\n",
    "    infile.read(mvc, \"marker\")\n",
    "\n",
    "mf = cpp.mesh.MeshFunctionSizet(mesh_2d, mvc)\n",
    "\n",
    "mf.array()[mf.array()>20]=0\n",
    "\n",
    "with XDMFFile(\"mesh/mesh_function.xdmf\") as xdmf_outfile:\n",
    "    xdmf_outfile.write(mf)"
   ]
  },
  {
   "cell_type": "code",
   "execution_count": 56,
   "metadata": {},
   "outputs": [
    {
     "data": {
      "text/plain": [
       "6"
      ]
     },
     "execution_count": 56,
     "metadata": {},
     "output_type": "execute_result"
    }
   ],
   "source": [
    "mf.array().max()"
   ]
  },
  {
   "cell_type": "code",
   "execution_count": 57,
   "metadata": {},
   "outputs": [],
   "source": [
    "mvc = MeshValueCollection(\"size_t\", mesh_2d, 0)\n",
    "with XDMFFile(\"point.xdmf\") as infile:\n",
    "    infile.read(mvc, \"marker\")\n",
    "\n",
    "mf = cpp.mesh.MeshFunctionSizet(mesh_2d, mvc)\n",
    "\n",
    "mf.array()[mf.array()>20]=0\n",
    "\n",
    "with XDMFFile(\"mesh/point_mesh_function.xdmf\") as xdmf_outfile:\n",
    "    xdmf_outfile.write(mf)"
   ]
  },
  {
   "cell_type": "code",
   "execution_count": 58,
   "metadata": {},
   "outputs": [
    {
     "data": {
      "text/plain": [
       "3"
      ]
     },
     "execution_count": 58,
     "metadata": {},
     "output_type": "execute_result"
    }
   ],
   "source": [
    "mf.array().max()"
   ]
  },
  {
   "cell_type": "code",
   "execution_count": 59,
   "metadata": {},
   "outputs": [
    {
     "data": {
      "text/plain": [
       "0"
      ]
     },
     "execution_count": 59,
     "metadata": {},
     "output_type": "execute_result"
    }
   ],
   "source": [
    "mvc.dim()"
   ]
  },
  {
   "cell_type": "code",
   "execution_count": null,
   "metadata": {},
   "outputs": [],
   "source": []
  }
 ],
 "metadata": {
  "kernelspec": {
   "display_name": "fenicsproject",
   "language": "python",
   "name": "python3"
  },
  "language_info": {
   "codemirror_mode": {
    "name": "ipython",
    "version": 3
   },
   "file_extension": ".py",
   "mimetype": "text/x-python",
   "name": "python",
   "nbconvert_exporter": "python",
   "pygments_lexer": "ipython3",
   "version": "3.10.17"
  }
 },
 "nbformat": 4,
 "nbformat_minor": 4
}
