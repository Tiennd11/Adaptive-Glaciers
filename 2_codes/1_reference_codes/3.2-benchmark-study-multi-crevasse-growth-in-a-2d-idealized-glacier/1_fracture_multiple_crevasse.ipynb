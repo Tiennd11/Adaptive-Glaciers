{
 "cells": [
  {
   "cell_type": "markdown",
   "metadata": {},
   "source": [
    "# Stress state within a prestine ground glacier."
   ]
  },
  {
   "cell_type": "markdown",
   "metadata": {},
   "source": [
    "In this code, we'll gain insight into the behaviour of  pristine glaciers that are land terminating and ocean terminating. Mimicking the conditions relevant to grounded glaciers, a free slip condition is applied to the bottom surface, restraining the displacement in the vertical direction. The normal component of the displacement field at the far left edge is restrained to prevent rigid body motion in the horizontal direction. The top surface, representing the atmosphere–ice interface, is defined as a free boundary."
   ]
  },
  {
   "cell_type": "markdown",
   "metadata": {},
   "source": []
  },
  {
   "cell_type": "markdown",
   "metadata": {},
   "source": [
    "## Step 1: Preprocessing\n",
    "- Define units: N, m\n",
    "- Prepare the design basis report"
   ]
  },
  {
   "cell_type": "markdown",
   "metadata": {},
   "source": [
    "## Step 2: Importing Necessary Libraries"
   ]
  },
  {
   "cell_type": "code",
   "execution_count": 1,
   "metadata": {},
   "outputs": [],
   "source": [
    "from dolfin import *\n",
    "import ufl\n",
    "from helpers import *\n",
    "from problem_definition import *\n",
    "from matplotlib import pyplot as plt\n",
    "\n",
    "%matplotlib inline"
   ]
  },
  {
   "cell_type": "markdown",
   "metadata": {},
   "source": [
    "## Step 3: Loading the Mesh"
   ]
  },
  {
   "cell_type": "code",
   "execution_count": 2,
   "metadata": {},
   "outputs": [],
   "source": [
    "mesh = Mesh()\n",
    "with XDMFFile(\"mesh/ice.xdmf\") as infile:\n",
    "    infile.read(mesh)"
   ]
  },
  {
   "cell_type": "code",
   "execution_count": 3,
   "metadata": {},
   "outputs": [
    {
     "data": {
      "text/plain": [
       "0.14749432650807182"
      ]
     },
     "execution_count": 3,
     "metadata": {},
     "output_type": "execute_result"
    }
   ],
   "source": [
    "mesh.hmin()"
   ]
  },
  {
   "cell_type": "markdown",
   "metadata": {},
   "source": [
    "## Step 4: Preparing the sets"
   ]
  },
  {
   "cell_type": "code",
   "execution_count": 4,
   "metadata": {},
   "outputs": [],
   "source": [
    "support_left = CompiledSubDomain(\"on_boundary && near(x[0], 0.0, tol)\", tol=1e-14)\n",
    "support_bottom = CompiledSubDomain(\"on_boundary && near(x[1],0.0, tol)\", tol=1e-14)\n",
    "load_right = CompiledSubDomain(\"on_boundary && x[1]<= 62.5 && x[0]==500\")\n",
    "\n",
    "mf_line = MeshFunction(\"size_t\", mesh, 1)\n",
    "load_right.mark(mf_line, 1)\n",
    "\n",
    "ds = Measure(\"ds\")(subdomain_data=mf_line)"
   ]
  },
  {
   "cell_type": "markdown",
   "metadata": {},
   "source": [
    "## Step 5: Preparing output file"
   ]
  },
  {
   "cell_type": "code",
   "execution_count": 5,
   "metadata": {},
   "outputs": [],
   "source": [
    "xdmf = XDMFFile(\"output/solution.xdmf\")\n",
    "xdmf.parameters[\"functions_share_mesh\"] = True\n",
    "xdmf.parameters[\"rewrite_function_mesh\"] = False\n",
    "xdmf.parameters[\"flush_output\"] = True"
   ]
  },
  {
   "cell_type": "markdown",
   "metadata": {},
   "source": [
    "## Step 6: Defining  spaces"
   ]
  },
  {
   "cell_type": "code",
   "execution_count": 6,
   "metadata": {},
   "outputs": [
    {
     "name": "stdout",
     "output_type": "stream",
     "text": [
      "Calling FFC just-in-time (JIT) compiler, this may take some time.\n"
     ]
    }
   ],
   "source": [
    "V1 = VectorFunctionSpace(mesh, \"CG\", 1)\n",
    "F1 = FunctionSpace(mesh, \"CG\", 1)\n",
    "\n",
    "FDG0 = FunctionSpace(mesh, \"DG\", 0)\n",
    "TDG0 = TensorFunctionSpace(mesh, \"DG\", 0)"
   ]
  },
  {
   "cell_type": "markdown",
   "metadata": {},
   "source": [
    "## Step 7: Define functions"
   ]
  },
  {
   "cell_type": "code",
   "execution_count": 7,
   "metadata": {},
   "outputs": [],
   "source": [
    "u, v = TrialFunction(V1), TestFunction(V1)\n",
    "unew, uold = Function(V1, name=\"disp\"), Function(V1, name=\"disp\")\n",
    "stress_xx, cdf = Function(F1, name=\"sigma_xx\"), Function(F1, name=\"cdf\")"
   ]
  },
  {
   "cell_type": "code",
   "execution_count": 8,
   "metadata": {},
   "outputs": [],
   "source": [
    "p, q = TrialFunction(F1), TestFunction(F1)\n",
    "pnew, pold = Function(F1, name=\"damage\"), Function(F1, name=\"damage\")"
   ]
  },
  {
   "cell_type": "markdown",
   "metadata": {},
   "source": [
    "## Step 8: Material Model"
   ]
  },
  {
   "cell_type": "code",
   "execution_count": 9,
   "metadata": {},
   "outputs": [],
   "source": [
    "# N, m, Pa\n",
    "g = 9.81\n",
    "rho_sea = 1020\n",
    "E0_ice = 9500e6\n",
    "nu_ice = 0.35\n",
    "rho_i_ice = 917 \n",
    "sigma_c_ice = 0.1185e6 "
   ]
  },
  {
   "cell_type": "code",
   "execution_count": 10,
   "metadata": {},
   "outputs": [],
   "source": [
    "l = 0.625"
   ]
  },
  {
   "cell_type": "code",
   "execution_count": 11,
   "metadata": {},
   "outputs": [],
   "source": [
    "ice = MaterialModel(E0_ice, nu_ice, rho_i_ice, sigma_c_ice, 1)"
   ]
  },
  {
   "cell_type": "markdown",
   "metadata": {},
   "source": [
    "## Step 9: Define supports"
   ]
  },
  {
   "cell_type": "code",
   "execution_count": 12,
   "metadata": {},
   "outputs": [],
   "source": [
    "bc_sp_x = DirichletBC(V1.sub(0), Constant(0.0), support_left)\n",
    "bc_sp_x2 = DirichletBC(V1.sub(1), Constant(0.0), support_bottom)\n",
    "bc_u = [bc_sp_x, bc_sp_x2]"
   ]
  },
  {
   "cell_type": "markdown",
   "metadata": {},
   "source": [
    "## Step 10: Define Loads\n"
   ]
  },
  {
   "cell_type": "code",
   "execution_count": 14,
   "metadata": {},
   "outputs": [],
   "source": [
    "t = Expression((\"-(rho_sea*(125/2 -x[1]))\", 0), rho_sea=rho_sea*g, degree=1)\n",
    "# t = Constant((0, 0))\n",
    "f = Constant((0, -ice.rho * g))"
   ]
  },
  {
   "cell_type": "markdown",
   "metadata": {},
   "source": [
    "## Step 11: Define the problem"
   ]
  },
  {
   "cell_type": "code",
   "execution_count": 14,
   "metadata": {},
   "outputs": [],
   "source": [
    "a_disp = inner(degradation(pnew) * ice.stress(u), ice.strain(v)) * dx\n",
    "L_disp = (1-pnew)*dot(f, v) * dx + dot(t, v) * ds(1)"
   ]
  },
  {
   "cell_type": "code",
   "execution_count": 15,
   "metadata": {},
   "outputs": [],
   "source": [
    "a_phase = ((1 + cdf) * inner(p, q) + l**2 * inner(grad(p), grad(q))) * dx\n",
    "L_phase = inner(cdf, q) * dx"
   ]
  },
  {
   "cell_type": "markdown",
   "metadata": {},
   "source": [
    "## Step 12: Solve "
   ]
  },
  {
   "cell_type": "code",
   "execution_count": 16,
   "metadata": {},
   "outputs": [],
   "source": [
    "disp_problem = LinearVariationalProblem(a_disp, L_disp, unew, bc_u)\n",
    "phase_problem = LinearVariationalProblem(a_phase, L_phase, pnew)"
   ]
  },
  {
   "cell_type": "code",
   "execution_count": 17,
   "metadata": {},
   "outputs": [],
   "source": [
    "problem = FractureProblem(disp_problem, phase_problem, ice, cdf)\n",
    "solver = FractureSolver(problem)"
   ]
  },
  {
   "cell_type": "code",
   "execution_count": 18,
   "metadata": {},
   "outputs": [],
   "source": [
    "prm = solver.parameters\n",
    "prm[\"time_start\"] = 0.0\n",
    "prm[\"time_total\"] = 100.0\n",
    "prm[\"delta_t\"] = 1.0\n",
    "prm[\"multi_staggered\"][\"tolerance\"] = 1e-5\n",
    "prm[\"multi_staggered\"][\"maximum_iterations\"] = 4"
   ]
  },
  {
   "cell_type": "code",
   "execution_count": 19,
   "metadata": {},
   "outputs": [
    {
     "name": "stdout",
     "output_type": "stream",
     "text": [
      "-----------------Time Step----------------------\n",
      "Calling FFC just-in-time (JIT) compiler, this may take some time.\n",
      "err - u - 2.335e+00 -- err - phi - 1.798e+00\n",
      "err - u - 4.685e-03 -- err - phi - 1.899e+00\n",
      "err - u - 5.687e-03 -- err - phi - 1.996e+00\n",
      "err - u - 6.633e-03 -- err - phi - 2.099e+00\n",
      "-----------------Time Step----------------------\n",
      "err - u - 7.703e-03 -- err - phi - 2.218e+00\n",
      "err - u - 8.807e-03 -- err - phi - 2.320e+00\n",
      "err - u - 9.786e-03 -- err - phi - 2.407e+00\n",
      "err - u - 1.075e-02 -- err - phi - 2.500e+00\n",
      "-----------------Time Step----------------------\n",
      "err - u - 1.176e-02 -- err - phi - 2.576e+00\n",
      "err - u - 1.260e-02 -- err - phi - 2.622e+00\n",
      "err - u - 1.332e-02 -- err - phi - 2.670e+00\n",
      "err - u - 1.400e-02 -- err - phi - 2.690e+00\n",
      "-----------------Time Step----------------------\n",
      "err - u - 1.465e-02 -- err - phi - 2.699e+00\n",
      "err - u - 1.522e-02 -- err - phi - 2.699e+00\n",
      "err - u - 1.571e-02 -- err - phi - 2.685e+00\n",
      "err - u - 1.595e-02 -- err - phi - 2.658e+00\n",
      "-----------------Time Step----------------------\n",
      "err - u - 1.616e-02 -- err - phi - 2.633e+00\n",
      "err - u - 1.628e-02 -- err - phi - 2.604e+00\n",
      "err - u - 1.638e-02 -- err - phi - 2.561e+00\n",
      "err - u - 1.642e-02 -- err - phi - 2.514e+00\n",
      "-----------------Time Step----------------------\n",
      "err - u - 1.641e-02 -- err - phi - 2.464e+00\n",
      "err - u - 1.626e-02 -- err - phi - 2.415e+00\n",
      "err - u - 1.612e-02 -- err - phi - 2.344e+00\n",
      "err - u - 1.583e-02 -- err - phi - 2.298e+00\n",
      "-----------------Time Step----------------------\n",
      "err - u - 1.557e-02 -- err - phi - 2.220e+00\n",
      "err - u - 1.519e-02 -- err - phi - 2.166e+00\n",
      "err - u - 1.489e-02 -- err - phi - 2.103e+00\n",
      "err - u - 1.459e-02 -- err - phi - 2.031e+00\n",
      "-----------------Time Step----------------------\n",
      "err - u - 1.420e-02 -- err - phi - 1.984e+00\n",
      "err - u - 1.387e-02 -- err - phi - 1.907e+00\n",
      "err - u - 1.333e-02 -- err - phi - 1.846e+00\n",
      "err - u - 1.298e-02 -- err - phi - 1.792e+00\n",
      "-----------------Time Step----------------------\n",
      "err - u - 1.260e-02 -- err - phi - 1.727e+00\n",
      "err - u - 1.217e-02 -- err - phi - 1.666e+00\n",
      "err - u - 1.174e-02 -- err - phi - 1.605e+00\n",
      "err - u - 1.130e-02 -- err - phi - 1.555e+00\n",
      "-----------------Time Step----------------------\n",
      "err - u - 1.094e-02 -- err - phi - 1.495e+00\n",
      "err - u - 1.052e-02 -- err - phi - 1.446e+00\n",
      "err - u - 1.017e-02 -- err - phi - 1.399e+00\n",
      "err - u - 9.800e-03 -- err - phi - 1.340e+00\n",
      "-----------------Time Step----------------------\n",
      "err - u - 9.341e-03 -- err - phi - 1.293e+00\n",
      "err - u - 9.046e-03 -- err - phi - 1.249e+00\n",
      "err - u - 8.679e-03 -- err - phi - 1.196e+00\n",
      "err - u - 8.265e-03 -- err - phi - 1.158e+00\n",
      "-----------------Time Step----------------------\n",
      "err - u - 7.958e-03 -- err - phi - 1.110e+00\n",
      "err - u - 7.606e-03 -- err - phi - 1.078e+00\n",
      "err - u - 7.346e-03 -- err - phi - 1.025e+00\n",
      "err - u - 6.988e-03 -- err - phi - 9.899e-01\n",
      "-----------------Time Step----------------------\n",
      "err - u - 6.705e-03 -- err - phi - 9.551e-01\n",
      "err - u - 6.470e-03 -- err - phi - 9.157e-01\n",
      "err - u - 6.157e-03 -- err - phi - 8.862e-01\n",
      "err - u - 5.904e-03 -- err - phi - 8.513e-01\n",
      "-----------------Time Step----------------------\n",
      "err - u - 5.655e-03 -- err - phi - 8.067e-01\n",
      "err - u - 5.333e-03 -- err - phi - 7.785e-01\n",
      "err - u - 5.077e-03 -- err - phi - 7.600e-01\n",
      "err - u - 4.929e-03 -- err - phi - 7.404e-01\n",
      "-----------------Time Step----------------------\n",
      "err - u - 4.793e-03 -- err - phi - 6.960e-01\n",
      "err - u - 4.485e-03 -- err - phi - 6.799e-01\n",
      "err - u - 4.331e-03 -- err - phi - 6.542e-01\n",
      "err - u - 4.119e-03 -- err - phi - 6.311e-01\n",
      "-----------------Time Step----------------------\n",
      "err - u - 3.935e-03 -- err - phi - 6.032e-01\n",
      "err - u - 3.737e-03 -- err - phi - 5.805e-01\n",
      "err - u - 3.580e-03 -- err - phi - 5.588e-01\n",
      "err - u - 3.418e-03 -- err - phi - 5.357e-01\n",
      "-----------------Time Step----------------------\n",
      "err - u - 3.241e-03 -- err - phi - 5.185e-01\n",
      "err - u - 3.106e-03 -- err - phi - 4.899e-01\n",
      "err - u - 2.884e-03 -- err - phi - 4.758e-01\n",
      "err - u - 2.768e-03 -- err - phi - 4.611e-01\n",
      "-----------------Time Step----------------------\n",
      "err - u - 2.675e-03 -- err - phi - 4.461e-01\n",
      "err - u - 2.584e-03 -- err - phi - 4.371e-01\n",
      "err - u - 2.492e-03 -- err - phi - 4.133e-01\n",
      "err - u - 2.339e-03 -- err - phi - 3.995e-01\n",
      "-----------------Time Step----------------------\n",
      "err - u - 2.233e-03 -- err - phi - 3.778e-01\n",
      "err - u - 2.119e-03 -- err - phi - 3.762e-01\n",
      "err - u - 2.062e-03 -- err - phi - 3.507e-01\n",
      "err - u - 1.891e-03 -- err - phi - 3.368e-01\n",
      "-----------------Time Step----------------------\n",
      "err - u - 1.833e-03 -- err - phi - 3.282e-01\n",
      "err - u - 1.734e-03 -- err - phi - 3.145e-01\n",
      "err - u - 1.651e-03 -- err - phi - 2.971e-01\n",
      "err - u - 1.527e-03 -- err - phi - 2.926e-01\n",
      "-----------------Time Step----------------------\n",
      "err - u - 1.493e-03 -- err - phi - 2.855e-01\n",
      "err - u - 1.461e-03 -- err - phi - 2.751e-01\n",
      "err - u - 1.396e-03 -- err - phi - 2.492e-01\n",
      "err - u - 1.242e-03 -- err - phi - 2.460e-01\n",
      "-----------------Time Step----------------------\n",
      "err - u - 1.214e-03 -- err - phi - 2.479e-01\n",
      "err - u - 1.222e-03 -- err - phi - 2.291e-01\n",
      "err - u - 1.105e-03 -- err - phi - 2.270e-01\n",
      "err - u - 1.083e-03 -- err - phi - 2.239e-01\n",
      "-----------------Time Step----------------------\n",
      "err - u - 1.057e-03 -- err - phi - 2.046e-01\n",
      "err - u - 9.751e-04 -- err - phi - 1.969e-01\n",
      "err - u - 9.271e-04 -- err - phi - 1.906e-01\n",
      "err - u - 8.679e-04 -- err - phi - 1.861e-01\n",
      "-----------------Time Step----------------------\n",
      "err - u - 8.437e-04 -- err - phi - 1.852e-01\n",
      "err - u - 8.406e-04 -- err - phi - 1.841e-01\n",
      "err - u - 8.097e-04 -- err - phi - 1.637e-01\n",
      "err - u - 7.086e-04 -- err - phi - 1.707e-01\n",
      "-----------------Time Step----------------------\n",
      "err - u - 7.248e-04 -- err - phi - 1.546e-01\n",
      "err - u - 6.646e-04 -- err - phi - 1.634e-01\n",
      "err - u - 6.854e-04 -- err - phi - 1.390e-01\n",
      "err - u - 5.829e-04 -- err - phi - 1.505e-01\n",
      "-----------------Time Step----------------------\n",
      "err - u - 6.068e-04 -- err - phi - 1.329e-01\n",
      "err - u - 5.337e-04 -- err - phi - 1.313e-01\n",
      "err - u - 5.221e-04 -- err - phi - 1.302e-01\n",
      "err - u - 5.074e-04 -- err - phi - 1.206e-01\n",
      "-----------------Time Step----------------------\n",
      "err - u - 4.741e-04 -- err - phi - 1.155e-01\n",
      "err - u - 4.401e-04 -- err - phi - 1.092e-01\n",
      "err - u - 4.225e-04 -- err - phi - 1.120e-01\n",
      "err - u - 4.233e-04 -- err - phi - 1.069e-01\n",
      "-----------------Time Step----------------------\n",
      "err - u - 3.932e-04 -- err - phi - 1.020e-01\n",
      "err - u - 3.728e-04 -- err - phi - 1.010e-01\n",
      "err - u - 3.595e-04 -- err - phi - 9.014e-02\n",
      "err - u - 3.181e-04 -- err - phi - 9.509e-02\n",
      "-----------------Time Step----------------------\n",
      "err - u - 3.356e-04 -- err - phi - 8.751e-02\n",
      "err - u - 3.026e-04 -- err - phi - 8.132e-02\n",
      "err - u - 2.823e-04 -- err - phi - 8.071e-02\n",
      "err - u - 2.720e-04 -- err - phi - 9.953e-02\n",
      "-----------------Time Step----------------------\n",
      "err - u - 3.279e-04 -- err - phi - 7.199e-02\n",
      "err - u - 2.467e-04 -- err - phi - 7.727e-02\n",
      "err - u - 2.519e-04 -- err - phi - 6.686e-02\n",
      "err - u - 2.138e-04 -- err - phi - 6.841e-02\n",
      "-----------------Time Step----------------------\n",
      "err - u - 2.182e-04 -- err - phi - 6.910e-02\n",
      "err - u - 2.215e-04 -- err - phi - 7.106e-02\n",
      "err - u - 2.236e-04 -- err - phi - 5.570e-02\n",
      "err - u - 1.712e-04 -- err - phi - 6.448e-02\n",
      "-----------------Time Step----------------------\n",
      "err - u - 1.952e-04 -- err - phi - 7.261e-02\n",
      "err - u - 2.181e-04 -- err - phi - 5.957e-02\n",
      "err - u - 1.776e-04 -- err - phi - 6.198e-02\n",
      "err - u - 1.869e-04 -- err - phi - 4.905e-02\n",
      "-----------------Time Step----------------------\n",
      "err - u - 1.468e-04 -- err - phi - 5.530e-02\n",
      "err - u - 1.596e-04 -- err - phi - 5.419e-02\n",
      "err - u - 1.550e-04 -- err - phi - 5.518e-02\n",
      "err - u - 1.576e-04 -- err - phi - 4.614e-02\n",
      "-----------------Time Step----------------------\n",
      "err - u - 1.287e-04 -- err - phi - 4.242e-02\n",
      "err - u - 1.194e-04 -- err - phi - 3.902e-02\n",
      "err - u - 1.076e-04 -- err - phi - 4.679e-02\n",
      "err - u - 1.260e-04 -- err - phi - 4.534e-02\n",
      "-----------------Time Step----------------------\n",
      "err - u - 1.235e-04 -- err - phi - 4.018e-02\n",
      "err - u - 1.108e-04 -- err - phi - 4.089e-02\n",
      "err - u - 1.078e-04 -- err - phi - 3.689e-02\n",
      "err - u - 9.776e-05 -- err - phi - 3.914e-02\n",
      "-----------------Time Step----------------------\n",
      "err - u - 9.974e-05 -- err - phi - 3.602e-02\n",
      "err - u - 9.234e-05 -- err - phi - 3.864e-02\n",
      "err - u - 9.605e-05 -- err - phi - 3.562e-02\n",
      "err - u - 8.843e-05 -- err - phi - 3.053e-02\n",
      "-----------------Time Step----------------------\n",
      "err - u - 7.586e-05 -- err - phi - 3.289e-02\n",
      "err - u - 8.022e-05 -- err - phi - 3.541e-02\n",
      "err - u - 8.823e-05 -- err - phi - 2.028e-02\n",
      "err - u - 5.164e-05 -- err - phi - 2.471e-02\n",
      "-----------------Time Step----------------------\n",
      "err - u - 6.274e-05 -- err - phi - 2.859e-02\n",
      "err - u - 7.249e-05 -- err - phi - 1.890e-02\n",
      "err - u - 4.750e-05 -- err - phi - 2.417e-02\n",
      "err - u - 5.961e-05 -- err - phi - 2.826e-02\n",
      "-----------------Time Step----------------------\n",
      "err - u - 7.039e-05 -- err - phi - 2.628e-02\n",
      "err - u - 6.168e-05 -- err - phi - 1.503e-02\n",
      "err - u - 3.490e-05 -- err - phi - 2.460e-02\n",
      "err - u - 5.715e-05 -- err - phi - 3.324e-02\n",
      "-----------------Time Step----------------------\n",
      "err - u - 7.593e-05 -- err - phi - 1.668e-02\n",
      "err - u - 3.762e-05 -- err - phi - 1.697e-02\n",
      "err - u - 3.850e-05 -- err - phi - 2.140e-02\n",
      "err - u - 4.690e-05 -- err - phi - 1.878e-02\n",
      "-----------------Time Step----------------------\n",
      "err - u - 3.979e-05 -- err - phi - 1.929e-02\n",
      "err - u - 4.168e-05 -- err - phi - 1.820e-02\n",
      "err - u - 3.999e-05 -- err - phi - 2.181e-02\n",
      "err - u - 4.652e-05 -- err - phi - 1.240e-02\n",
      "-----------------Time Step----------------------\n",
      "err - u - 2.529e-05 -- err - phi - 1.032e-02\n",
      "err - u - 1.892e-05 -- err - phi - 9.950e-03\n",
      "err - u - 1.701e-05 -- err - phi - 9.842e-03\n",
      "err - u - 1.606e-05 -- err - phi - 1.592e-02\n",
      "-----------------Time Step----------------------\n",
      "err - u - 3.481e-05 -- err - phi - 1.115e-02\n",
      "err - u - 2.175e-05 -- err - phi - 1.019e-02\n",
      "err - u - 1.879e-05 -- err - phi - 9.320e-03\n",
      "err - u - 1.623e-05 -- err - phi - 1.832e-02\n",
      "-----------------Time Step----------------------\n",
      "err - u - 4.001e-05 -- err - phi - 1.242e-02\n",
      "err - u - 2.688e-05 -- err - phi - 1.147e-02\n",
      "err - u - 2.341e-05 -- err - phi - 1.026e-02\n",
      "err - u - 2.013e-05 -- err - phi - 8.951e-03\n",
      "-----------------Time Step----------------------\n",
      "err - u - 1.632e-05 -- err - phi - 8.049e-03\n",
      "err - u - 1.320e-05 -- err - phi - 7.714e-03\n",
      "err - u - 1.274e-05 -- err - phi - 1.605e-02\n",
      "err - u - 3.385e-05 -- err - phi - 1.083e-02\n",
      "-----------------Time Step----------------------\n",
      "err - u - 2.212e-05 -- err - phi - 9.844e-03\n",
      "err - u - 1.973e-05 -- err - phi - 1.909e-02\n",
      "err - u - 4.126e-05 -- err - phi - 1.188e-02\n",
      "err - u - 2.539e-05 -- err - phi - 9.478e-03\n",
      "-----------------Time Step----------------------\n",
      "err - u - 1.921e-05 -- err - phi - 8.382e-03\n",
      "err - u - 1.612e-05 -- err - phi - 8.001e-03\n",
      "err - u - 1.445e-05 -- err - phi - 7.608e-03\n",
      "err - u - 1.345e-05 -- err - phi - 7.892e-03\n",
      "-----------------Time Step----------------------\n",
      "err - u - 1.366e-05 -- err - phi - 7.814e-03\n",
      "err - u - 1.214e-05 -- err - phi - 7.341e-03\n",
      "err - u - 1.083e-05 -- err - phi - 7.377e-03\n",
      "err - u - 1.074e-05 -- err - phi - 1.397e-02\n",
      "-----------------Time Step----------------------\n",
      "err - u - 2.788e-05 -- err - phi - 9.327e-03\n",
      "err - u - 1.748e-05 -- err - phi - 8.640e-03\n",
      "err - u - 1.510e-05 -- err - phi - 9.160e-03\n",
      "err - u - 1.605e-05 -- err - phi - 1.769e-02\n",
      "-----------------Time Step----------------------\n",
      "err - u - 4.129e-05 -- err - phi - 1.059e-02\n",
      "err - u - 2.193e-05 -- err - phi - 8.731e-03\n",
      "err - u - 1.601e-05 -- err - phi - 8.153e-03\n",
      "err - u - 1.433e-05 -- err - phi - 7.845e-03\n",
      "-----------------Time Step----------------------\n",
      "err - u - 1.347e-05 -- err - phi - 8.046e-03\n",
      "err - u - 1.356e-05 -- err - phi - 8.594e-03\n",
      "err - u - 1.483e-05 -- err - phi - 8.787e-03\n",
      "err - u - 1.588e-05 -- err - phi - 8.386e-03\n",
      "-----------------Time Step----------------------\n",
      "err - u - 1.349e-05 -- err - phi - 7.937e-03\n",
      "err - u - 1.179e-05 -- err - phi - 7.489e-03\n",
      "err - u - 1.105e-05 -- err - phi - 7.273e-03\n",
      "err - u - 1.094e-05 -- err - phi - 7.200e-03\n",
      "-----------------Time Step----------------------\n",
      "err - u - 1.145e-05 -- err - phi - 7.462e-03\n",
      "err - u - 1.113e-05 -- err - phi - 7.000e-03\n",
      "err - u - 9.313e-06 -- err - phi - 6.485e-03\n",
      "err - u - 9.290e-06 -- err - phi - 6.376e-03\n",
      "-----------------Time Step----------------------\n",
      "err - u - 9.385e-06 -- err - phi - 6.312e-03\n",
      "err - u - 9.198e-06 -- err - phi - 6.068e-03\n",
      "err - u - 7.892e-06 -- err - phi - 6.000e-03\n",
      "err - u - 8.512e-06 -- err - phi - 6.175e-03\n",
      "-----------------Time Step----------------------\n",
      "err - u - 9.074e-06 -- err - phi - 6.437e-03\n",
      "err - u - 8.892e-06 -- err - phi - 6.180e-03\n",
      "err - u - 8.737e-06 -- err - phi - 6.269e-03\n",
      "err - u - 8.530e-06 -- err - phi - 6.516e-03\n",
      "-----------------Time Step----------------------\n",
      "err - u - 9.359e-06 -- err - phi - 6.521e-03\n",
      "err - u - 9.866e-06 -- err - phi - 7.147e-03\n",
      "err - u - 1.175e-05 -- err - phi - 6.631e-03\n",
      "err - u - 9.265e-06 -- err - phi - 6.048e-03\n",
      "-----------------Time Step----------------------\n",
      "err - u - 8.687e-06 -- err - phi - 6.430e-03\n",
      "err - u - 9.724e-06 -- err - phi - 6.174e-03\n",
      "err - u - 1.004e-05 -- err - phi - 5.713e-03\n",
      "err - u - 8.875e-06 -- err - phi - 5.665e-03\n",
      "-----------------Time Step----------------------\n",
      "err - u - 7.448e-06 -- err - phi - 5.492e-03\n",
      "err - u - 6.874e-06 -- err - phi - 5.648e-03\n",
      "err - u - 7.700e-06 -- err - phi - 6.254e-03\n",
      "err - u - 9.089e-06 -- err - phi - 6.530e-03\n",
      "-----------------Time Step----------------------\n",
      "err - u - 9.713e-06 -- err - phi - 6.338e-03\n",
      "err - u - 1.001e-05 -- err - phi - 5.440e-03\n",
      "err - u - 7.934e-06 -- err - phi - 5.298e-03\n",
      "err - u - 6.837e-06 -- err - phi - 5.051e-03\n",
      "-----------------Time Step----------------------\n",
      "err - u - 6.640e-06 -- err - phi - 5.170e-03\n",
      "err - u - 7.235e-06 -- err - phi - 5.572e-03\n",
      "err - u - 7.971e-06 -- err - phi - 5.530e-03\n",
      "err - u - 8.084e-06 -- err - phi - 5.613e-03\n",
      "-----------------Time Step----------------------\n",
      "err - u - 8.337e-06 -- err - phi - 5.511e-03\n",
      "err - u - 7.600e-06 -- err - phi - 4.703e-03\n",
      "err - u - 6.140e-06 -- err - phi - 5.028e-03\n",
      "err - u - 6.823e-06 -- err - phi - 4.724e-03\n",
      "-----------------Time Step----------------------\n",
      "err - u - 5.840e-06 -- err - phi - 3.890e-03\n",
      "err - u - 4.275e-06 -- err - phi - 4.214e-03\n",
      "err - u - 4.989e-06 -- err - phi - 4.447e-03\n",
      "err - u - 5.835e-06 -- err - phi - 5.086e-03\n",
      "-----------------Time Step----------------------\n",
      "err - u - 7.641e-06 -- err - phi - 5.794e-03\n",
      "err - u - 9.180e-06 -- err - phi - 6.447e-03\n",
      "err - u - 1.074e-05 -- err - phi - 5.430e-03\n",
      "err - u - 8.090e-06 -- err - phi - 4.661e-03\n",
      "-----------------Time Step----------------------\n",
      "err - u - 6.555e-06 -- err - phi - 4.315e-03\n",
      "err - u - 5.656e-06 -- err - phi - 4.072e-03\n",
      "err - u - 4.957e-06 -- err - phi - 4.010e-03\n",
      "err - u - 5.115e-06 -- err - phi - 3.875e-03\n",
      "-----------------Time Step----------------------\n",
      "err - u - 5.605e-06 -- err - phi - 3.570e-03\n",
      "err - u - 4.880e-06 -- err - phi - 3.617e-03\n",
      "err - u - 4.609e-06 -- err - phi - 3.959e-03\n",
      "err - u - 4.771e-06 -- err - phi - 4.644e-03\n",
      "-----------------Time Step----------------------\n",
      "err - u - 6.522e-06 -- err - phi - 4.728e-03\n",
      "err - u - 6.497e-06 -- err - phi - 4.579e-03\n",
      "err - u - 7.063e-06 -- err - phi - 4.242e-03\n",
      "err - u - 7.085e-06 -- err - phi - 4.184e-03\n",
      "-----------------Time Step----------------------\n",
      "err - u - 6.044e-06 -- err - phi - 3.520e-03\n",
      "err - u - 4.275e-06 -- err - phi - 3.292e-03\n",
      "err - u - 3.733e-06 -- err - phi - 3.725e-03\n",
      "err - u - 4.966e-06 -- err - phi - 4.092e-03\n",
      "-----------------Time Step----------------------\n",
      "err - u - 6.148e-06 -- err - phi - 3.917e-03\n",
      "err - u - 5.497e-06 -- err - phi - 3.179e-03\n",
      "err - u - 3.992e-06 -- err - phi - 2.927e-03\n",
      "err - u - 3.727e-06 -- err - phi - 2.655e-03\n",
      "-----------------Time Step----------------------\n",
      "err - u - 2.737e-06 -- err - phi - 2.738e-03\n",
      "err - u - 3.390e-06 -- err - phi - 3.253e-03\n",
      "err - u - 4.791e-06 -- err - phi - 3.532e-03\n",
      "err - u - 5.394e-06 -- err - phi - 3.374e-03\n",
      "-----------------Time Step----------------------\n",
      "err - u - 4.130e-06 -- err - phi - 2.384e-03\n",
      "err - u - 2.035e-06 -- err - phi - 2.198e-03\n",
      "err - u - 2.102e-06 -- err - phi - 2.622e-03\n",
      "err - u - 3.150e-06 -- err - phi - 3.010e-03\n",
      "-----------------Time Step----------------------\n",
      "err - u - 4.084e-06 -- err - phi - 3.868e-03\n",
      "err - u - 4.842e-06 -- err - phi - 4.016e-03\n",
      "err - u - 6.129e-06 -- err - phi - 4.130e-03\n",
      "err - u - 6.853e-06 -- err - phi - 4.197e-03\n",
      "-----------------Time Step----------------------\n",
      "err - u - 5.641e-06 -- err - phi - 3.459e-03\n",
      "err - u - 4.314e-06 -- err - phi - 3.153e-03\n",
      "err - u - 4.154e-06 -- err - phi - 3.027e-03\n",
      "err - u - 4.865e-06 -- err - phi - 2.895e-03\n",
      "-----------------Time Step----------------------\n",
      "err - u - 4.354e-06 -- err - phi - 3.007e-03\n",
      "err - u - 3.158e-06 -- err - phi - 2.482e-03\n",
      "err - u - 2.342e-06 -- err - phi - 2.556e-03\n",
      "err - u - 2.995e-06 -- err - phi - 2.919e-03\n",
      "-----------------Time Step----------------------\n",
      "err - u - 3.958e-06 -- err - phi - 3.457e-03\n",
      "err - u - 5.161e-06 -- err - phi - 4.126e-03\n",
      "err - u - 7.226e-06 -- err - phi - 4.516e-03\n",
      "err - u - 9.091e-06 -- err - phi - 3.747e-03\n",
      "-----------------Time Step----------------------\n",
      "err - u - 5.311e-06 -- err - phi - 2.798e-03\n",
      "err - u - 3.920e-06 -- err - phi - 2.508e-03\n",
      "err - u - 2.528e-06 -- err - phi - 2.701e-03\n",
      "err - u - 2.987e-06 -- err - phi - 3.494e-03\n",
      "-----------------Time Step----------------------\n",
      "err - u - 4.173e-06 -- err - phi - 4.105e-03\n",
      "err - u - 5.642e-06 -- err - phi - 4.776e-03\n",
      "err - u - 1.099e-05 -- err - phi - 4.534e-03\n",
      "err - u - 1.245e-05 -- err - phi - 3.939e-03\n",
      "-----------------Time Step----------------------\n",
      "err - u - 6.989e-06 -- err - phi - 4.318e-03\n",
      "err - u - 7.510e-06 -- err - phi - 3.630e-03\n",
      "err - u - 5.035e-06 -- err - phi - 3.822e-03\n",
      "err - u - 5.056e-06 -- err - phi - 3.562e-03\n",
      "-----------------Time Step----------------------\n",
      "err - u - 6.682e-06 -- err - phi - 3.701e-03\n",
      "err - u - 4.503e-06 -- err - phi - 2.942e-03\n",
      "err - u - 3.223e-06 -- err - phi - 3.306e-03\n",
      "err - u - 4.496e-06 -- err - phi - 3.376e-03\n",
      "-----------------Time Step----------------------\n",
      "err - u - 4.904e-06 -- err - phi - 2.973e-03\n",
      "err - u - 2.903e-06 -- err - phi - 2.762e-03\n",
      "err - u - 3.004e-06 -- err - phi - 3.106e-03\n",
      "err - u - 4.262e-06 -- err - phi - 4.074e-03\n",
      "-----------------Time Step----------------------\n",
      "err - u - 6.556e-06 -- err - phi - 3.839e-03\n",
      "err - u - 6.132e-06 -- err - phi - 3.343e-03\n",
      "err - u - 4.747e-06 -- err - phi - 3.591e-03\n",
      "err - u - 3.801e-06 -- err - phi - 3.341e-03\n",
      "-----------------Time Step----------------------\n",
      "err - u - 3.734e-06 -- err - phi - 3.948e-03\n",
      "err - u - 5.704e-06 -- err - phi - 4.132e-03\n",
      "err - u - 6.338e-06 -- err - phi - 3.860e-03\n",
      "err - u - 9.751e-06 -- err - phi - 3.178e-03\n",
      "-----------------Time Step----------------------\n",
      "err - u - 4.907e-06 -- err - phi - 3.466e-03\n",
      "err - u - 4.406e-06 -- err - phi - 4.011e-03\n",
      "err - u - 6.363e-06 -- err - phi - 4.370e-03\n",
      "err - u - 7.811e-06 -- err - phi - 3.313e-03\n",
      "-----------------Time Step----------------------\n",
      "err - u - 4.725e-06 -- err - phi - 3.099e-03\n",
      "err - u - 3.569e-06 -- err - phi - 3.484e-03\n",
      "err - u - 5.260e-06 -- err - phi - 3.096e-03\n",
      "err - u - 4.283e-06 -- err - phi - 3.687e-03\n",
      "-----------------Time Step----------------------\n",
      "err - u - 5.899e-06 -- err - phi - 3.687e-03\n",
      "err - u - 5.659e-06 -- err - phi - 3.438e-03\n",
      "err - u - 4.807e-06 -- err - phi - 3.769e-03\n",
      "err - u - 5.791e-06 -- err - phi - 4.055e-03\n",
      "-----------------Time Step----------------------\n",
      "err - u - 6.106e-06 -- err - phi - 3.572e-03\n",
      "err - u - 6.449e-06 -- err - phi - 3.391e-03\n",
      "err - u - 5.027e-06 -- err - phi - 2.702e-03\n",
      "err - u - 4.050e-06 -- err - phi - 2.641e-03\n",
      "-----------------Time Step----------------------\n",
      "err - u - 4.055e-06 -- err - phi - 2.356e-03\n",
      "err - u - 2.612e-06 -- err - phi - 2.246e-03\n",
      "err - u - 2.682e-06 -- err - phi - 2.200e-03\n",
      "err - u - 2.442e-06 -- err - phi - 2.316e-03\n",
      "-----------------Time Step----------------------\n",
      "err - u - 2.941e-06 -- err - phi - 2.360e-03\n",
      "err - u - 3.632e-06 -- err - phi - 2.589e-03\n",
      "err - u - 3.292e-06 -- err - phi - 2.748e-03\n",
      "err - u - 3.374e-06 -- err - phi - 2.795e-03\n",
      "-----------------Time Step----------------------\n",
      "err - u - 3.612e-06 -- err - phi - 2.449e-03\n",
      "err - u - 2.062e-06 -- err - phi - 2.081e-03\n",
      "err - u - 1.386e-06 -- err - phi - 2.125e-03\n",
      "err - u - 1.762e-06 -- err - phi - 2.665e-03\n",
      "-----------------Time Step----------------------\n",
      "err - u - 2.821e-06 -- err - phi - 3.195e-03\n",
      "err - u - 4.959e-06 -- err - phi - 3.531e-03\n",
      "err - u - 7.699e-06 -- err - phi - 3.203e-03\n",
      "err - u - 8.516e-06 -- err - phi - 2.673e-03\n",
      "-----------------Time Step----------------------\n",
      "err - u - 3.325e-06 -- err - phi - 2.449e-03\n",
      "err - u - 2.549e-06 -- err - phi - 2.125e-03\n",
      "err - u - 2.090e-06 -- err - phi - 2.458e-03\n",
      "err - u - 3.560e-06 -- err - phi - 3.462e-03\n",
      "-----------------Time Step----------------------\n",
      "err - u - 4.773e-06 -- err - phi - 2.939e-03\n",
      "err - u - 3.311e-06 -- err - phi - 3.556e-03\n",
      "err - u - 5.217e-06 -- err - phi - 3.943e-03\n",
      "err - u - 6.903e-06 -- err - phi - 3.579e-03\n",
      "-----------------Time Step----------------------\n",
      "err - u - 5.459e-06 -- err - phi - 3.711e-03\n",
      "err - u - 7.818e-06 -- err - phi - 3.431e-03\n",
      "err - u - 7.889e-06 -- err - phi - 2.959e-03\n",
      "err - u - 4.612e-06 -- err - phi - 3.346e-03\n",
      "-----------------Time Step----------------------\n",
      "err - u - 6.478e-06 -- err - phi - 2.791e-03\n",
      "err - u - 3.087e-06 -- err - phi - 2.613e-03\n",
      "err - u - 2.441e-06 -- err - phi - 3.159e-03\n",
      "err - u - 4.265e-06 -- err - phi - 4.258e-03\n",
      "-----------------Time Step----------------------\n",
      "err - u - 8.477e-06 -- err - phi - 3.756e-03\n",
      "err - u - 7.294e-06 -- err - phi - 3.485e-03\n",
      "err - u - 4.367e-06 -- err - phi - 4.040e-03\n",
      "err - u - 6.949e-06 -- err - phi - 4.588e-03\n",
      "-----------------Time Step----------------------\n",
      "err - u - 7.767e-06 -- err - phi - 3.930e-03\n",
      "err - u - 6.788e-06 -- err - phi - 3.344e-03\n",
      "err - u - 4.016e-06 -- err - phi - 2.756e-03\n",
      "err - u - 3.578e-06 -- err - phi - 2.804e-03\n",
      "-----------------Time Step----------------------\n",
      "err - u - 4.371e-06 -- err - phi - 2.171e-03\n",
      "err - u - 2.702e-06 -- err - phi - 1.974e-03\n",
      "err - u - 2.115e-06 -- err - phi - 2.342e-03\n",
      "err - u - 3.110e-06 -- err - phi - 2.378e-03\n",
      "-----------------Time Step----------------------\n",
      "err - u - 2.995e-06 -- err - phi - 2.901e-03\n",
      "err - u - 3.099e-06 -- err - phi - 3.193e-03\n",
      "err - u - 4.257e-06 -- err - phi - 3.108e-03\n",
      "err - u - 4.223e-06 -- err - phi - 3.481e-03\n",
      "-----------------Time Step----------------------\n",
      "err - u - 4.296e-06 -- err - phi - 3.351e-03\n",
      "err - u - 3.798e-06 -- err - phi - 3.801e-03\n",
      "err - u - 5.669e-06 -- err - phi - 4.359e-03\n",
      "err - u - 7.734e-06 -- err - phi - 4.988e-03\n",
      "-----------------Time Step----------------------\n",
      "err - u - 9.157e-06 -- err - phi - 3.191e-03\n",
      "err - u - 5.223e-06 -- err - phi - 2.703e-03\n",
      "err - u - 2.814e-06 -- err - phi - 2.202e-03\n",
      "err - u - 2.185e-06 -- err - phi - 2.659e-03\n",
      "-----------------Time Step----------------------\n",
      "err - u - 3.079e-06 -- err - phi - 2.912e-03\n",
      "err - u - 3.674e-06 -- err - phi - 2.971e-03\n",
      "err - u - 5.034e-06 -- err - phi - 3.120e-03\n",
      "err - u - 5.347e-06 -- err - phi - 2.861e-03\n",
      "-----------------Time Step----------------------\n",
      "err - u - 2.836e-06 -- err - phi - 3.077e-03\n",
      "err - u - 3.524e-06 -- err - phi - 2.930e-03\n",
      "err - u - 4.191e-06 -- err - phi - 2.816e-03\n",
      "err - u - 4.231e-06 -- err - phi - 3.066e-03\n"
     ]
    }
   ],
   "source": [
    "solver.solve(xdmf)"
   ]
  },
  {
   "cell_type": "code",
   "execution_count": 20,
   "metadata": {},
   "outputs": [
    {
     "data": {
      "text/plain": [
       "<matplotlib.collections.PolyCollection at 0x7f6c8b1e4cf8>"
      ]
     },
     "execution_count": 20,
     "metadata": {},
     "output_type": "execute_result"
    },
    {
     "data": {
      "image/png": "[encoded data removed]",
      "text/plain": [
       "<Figure size 432x288 with 1 Axes>"
      ]
     },
     "metadata": {
      "needs_background": "light"
     },
     "output_type": "display_data"
    }
   ],
   "source": [
    "plot(unew, mode=\"displacement\")"
   ]
  },
  {
   "cell_type": "code",
   "execution_count": 21,
   "metadata": {},
   "outputs": [
    {
     "data": {
      "image/png": "[encoded data removed]",
      "text/plain": [
       "<Figure size 1296x432 with 2 Axes>"
      ]
     },
     "metadata": {
      "needs_background": "light"
     },
     "output_type": "display_data"
    }
   ],
   "source": [
    "plt.figure(figsize=(18, 6))\n",
    "c = plot(pnew)\n",
    "plt.colorbar(c)  # Adds the colorbar\n",
    "plt.show()"
   ]
  },
  {
   "cell_type": "markdown",
   "metadata": {},
   "source": [
    "## Step 13: Post processing"
   ]
  },
  {
   "cell_type": "code",
   "execution_count": 22,
   "metadata": {},
   "outputs": [
    {
     "name": "stdout",
     "output_type": "stream",
     "text": [
      "Calling FFC just-in-time (JIT) compiler, this may take some time.\n"
     ]
    }
   ],
   "source": [
    "stress_xx.assign(project(ice.stress(unew)[0, 0] / 1e6, FDG0))  # N/m2 -> MPa\n",
    "cdf.assign(project(ice.get_crack_driving_force(unew), FDG0))"
   ]
  },
  {
   "cell_type": "code",
   "execution_count": 23,
   "metadata": {},
   "outputs": [
    {
     "data": {
      "image/png": "[encoded data removed]",
      "text/plain": [
       "<Figure size 1296x432 with 2 Axes>"
      ]
     },
     "metadata": {
      "needs_background": "light"
     },
     "output_type": "display_data"
    }
   ],
   "source": [
    "plt.figure(figsize=(18, 6))\n",
    "c = plot(stress_xx)\n",
    "plt.colorbar(c)  # Adds the colorbar\n",
    "plt.show()"
   ]
  },
  {
   "cell_type": "code",
   "execution_count": 24,
   "metadata": {},
   "outputs": [
    {
     "data": {
      "image/png": "[encoded data removed]",
      "text/plain": [
       "<Figure size 1296x432 with 2 Axes>"
      ]
     },
     "metadata": {
      "needs_background": "light"
     },
     "output_type": "display_data"
    }
   ],
   "source": [
    "plt.figure(figsize=(18, 6))\n",
    "c = plot(cdf)\n",
    "plt.colorbar(c)  # Adds the colorbar\n",
    "plt.show()"
   ]
  },
  {
   "cell_type": "code",
   "execution_count": 25,
   "metadata": {},
   "outputs": [],
   "source": [
    "# xdmf.write(unew, 0)\n",
    "# xdmf.write(stress_xx, 0)\n",
    "# xdmf.write(cdf, 0)\n",
    "# xdmf.close()"
   ]
  },
  {
   "cell_type": "code",
   "execution_count": null,
   "metadata": {},
   "outputs": [],
   "source": []
  },
  {
   "cell_type": "code",
   "execution_count": null,
   "metadata": {},
   "outputs": [],
   "source": []
  },
  {
   "cell_type": "code",
   "execution_count": null,
   "metadata": {},
   "outputs": [],
   "source": []
  }
 ],
 "metadata": {
  "kernelspec": {
   "display_name": "Python 3",
   "language": "python",
   "name": "python3"
  },
  "language_info": {
   "codemirror_mode": {
    "name": "ipython",
    "version": 3
   },
   "file_extension": ".py",
   "mimetype": "text/x-python",
   "name": "python",
   "nbconvert_exporter": "python",
   "pygments_lexer": "ipython3",
   "version": "3.6.7"
  },
  "vscode": {
   "interpreter": {
    "hash": "916dbcbb3f70747c44a77c7bcd40155683ae19c65e1c03b4aa3499c5328201f1"
   }
  }
 },
 "nbformat": 4,
 "nbformat_minor": 4
}
